{
  "nbformat": 4,
  "nbformat_minor": 0,
  "metadata": {
    "colab": {
      "name": "twitterbot.ipynb",
      "provenance": [],
      "authorship_tag": "ABX9TyPZ34s3zqd01eCeQiz+iVOn",
      "include_colab_link": true
    },
    "kernelspec": {
      "name": "python3",
      "display_name": "Python 3"
    },
    "language_info": {
      "name": "python"
    }
  },
  "cells": [
    {
      "cell_type": "markdown",
      "metadata": {
        "id": "view-in-github",
        "colab_type": "text"
      },
      "source": [
        "<a href=\"https://colab.research.google.com/github/Shankjbs571/python1/blob/main/twitterbot.ipynb\" target=\"_parent\"><img src=\"https://colab.research.google.com/assets/colab-badge.svg\" alt=\"Open In Colab\"/></a>"
      ]
    },
    {
      "cell_type": "code",
      "execution_count": null,
      "metadata": {
        "colab": {
          "base_uri": "https://localhost:8080/"
        },
        "id": "2YVst0WkSwhP",
        "outputId": "88c16637-8320-4306-9ecc-dbf02c090cbb"
      },
      "outputs": [
        {
          "output_type": "stream",
          "name": "stdout",
          "text": [
            "Looking in indexes: https://pypi.org/simple, https://us-python.pkg.dev/colab-wheels/public/simple/\n",
            "Requirement already satisfied: tweepy in /usr/local/lib/python3.7/dist-packages (3.10.0)\n",
            "Requirement already satisfied: six>=1.10.0 in /usr/local/lib/python3.7/dist-packages (from tweepy) (1.15.0)\n",
            "Requirement already satisfied: requests-oauthlib>=0.7.0 in /usr/local/lib/python3.7/dist-packages (from tweepy) (1.3.1)\n",
            "Requirement already satisfied: requests[socks]>=2.11.1 in /usr/local/lib/python3.7/dist-packages (from tweepy) (2.23.0)\n",
            "Requirement already satisfied: oauthlib>=3.0.0 in /usr/local/lib/python3.7/dist-packages (from requests-oauthlib>=0.7.0->tweepy) (3.2.0)\n",
            "Requirement already satisfied: idna<3,>=2.5 in /usr/local/lib/python3.7/dist-packages (from requests[socks]>=2.11.1->tweepy) (2.10)\n",
            "Requirement already satisfied: certifi>=2017.4.17 in /usr/local/lib/python3.7/dist-packages (from requests[socks]>=2.11.1->tweepy) (2022.6.15)\n",
            "Requirement already satisfied: chardet<4,>=3.0.2 in /usr/local/lib/python3.7/dist-packages (from requests[socks]>=2.11.1->tweepy) (3.0.4)\n",
            "Requirement already satisfied: urllib3!=1.25.0,!=1.25.1,<1.26,>=1.21.1 in /usr/local/lib/python3.7/dist-packages (from requests[socks]>=2.11.1->tweepy) (1.24.3)\n",
            "Requirement already satisfied: PySocks!=1.5.7,>=1.5.6 in /usr/local/lib/python3.7/dist-packages (from requests[socks]>=2.11.1->tweepy) (1.7.1)\n"
          ]
        }
      ],
      "source": [
        "!pip install tweepy"
      ]
    },
    {
      "cell_type": "code",
      "source": [
        "import tweepy\n",
        "import time\n",
        "CONSUMER_KEY='\n",
        "CONSUMER_SECRET=''\n",
        "ACCESS_KEY=''\n",
        "ACCESS_SECRET=''\n",
        "\n",
        "auth = tweepy.OAuthHandler(CONSUMER_KEY, CONSUMER_SECRET)\n",
        "auth.set_access_token(ACCESS_KEY, ACCESS_SECRET)\n",
        "api=tweepy.API(auth)\n",
        "\n",
        "filename='lastseen.txt'\n",
        "\n",
        "\n",
        "def retrieve_last_seen_id(fname):\n",
        "  f_read=open(fname,'r')\n",
        "  last_seen_id = int(f_read.read().strip())\n",
        "  f_read.close()\n",
        "  return last_seen_id\n",
        "\n",
        "def store_last_seen_id(last_seen_id,fname):\n",
        "  f_write=open(fname,'w')\n",
        "  f_write.write(str(last_seen_id))\n",
        "  f_write.close()\n",
        "  return\n",
        "\n",
        "\n",
        "last_seen_id = retrieve_last_seen_id(filename)\n",
        "mentions = api.mentions_timeline(last_seen_id,tweet_mode='extended')\n",
        "for m in mentions:\n",
        "  #print(str(m.id)+'-'+m.text)\n",
        "  last_seen_id=m.id\n",
        "  store_last_seen_id(last_seen_id,filename)\n",
        "  if '#tweety' in m.full_text.lower() and 'hello how are you' in m.full_text.lower():\n",
        "    print(m.full_text+' '+\"Found\")\n",
        "    api.update_status('@'+m.user.screen_name+'Hey! Im fine \\n How are you doing?',m.id)\n",
        "    print(\"responded\")\n",
        "  elif '#tweety' in m.full_text.lower() and 'i am also good' in m.full_text.lower():\n",
        "    print(m.full_text+' '+\"Found\")\n",
        "    api.update_status('@'+m.user.screen_name+' Thats Great!\\n Have a Nice Day',m.id)\n",
        "    print(\"responded\")\n"
      ],
      "metadata": {
        "colab": {
          "base_uri": "https://localhost:8080/"
        },
        "id": "oymrIfQyUmui",
        "outputId": "817b123f-273c-4a00-97e5-3a480d470e5c"
      },
      "execution_count": 37,
      "outputs": [
        {
          "output_type": "stream",
          "name": "stdout",
          "text": [
            "@shankjbs175 #tweety I am also good Found\n",
            "responded\n"
          ]
        }
      ]
    },
    {
      "cell_type": "code",
      "source": [
        "f=open('lastseen.txt','w')\n",
        "f.write('1563051342943625216')\n",
        "f.close()"
      ],
      "metadata": {
        "id": "TFFUTUjZGzR1"
      },
      "execution_count": null,
      "outputs": []
    },
    {
      "cell_type": "code",
      "source": [
        "f=open('lastseen.txt','r')\n",
        "fread=f.read()\n",
        "print(fread)"
      ],
      "metadata": {
        "colab": {
          "base_uri": "https://localhost:8080/"
        },
        "id": "P4p91BlmKRJW",
        "outputId": "8385736e-e373-4809-e320-8872afb62c5c"
      },
      "execution_count": null,
      "outputs": [
        {
          "output_type": "stream",
          "name": "stdout",
          "text": [
            "1563051342943625216\n"
          ]
        }
      ]
    }
  ]
}
